{
 "cells": [
  {
   "cell_type": "code",
   "execution_count": 1,
   "id": "02802a43-9820-462a-8d72-2f02ae67a1c5",
   "metadata": {},
   "outputs": [],
   "source": [
    "import gurobipy as gp\n",
    "from gurobipy import GRB\n",
    "import numpy as np"
   ]
  },
  {
   "cell_type": "code",
   "execution_count": 2,
   "id": "36c66e27-540d-4aff-829a-4c6746bcd0ff",
   "metadata": {},
   "outputs": [],
   "source": [
    "class recomm:\n",
    "    def __init__(self): #输入基本参数（决定模型尺寸）\n",
    "        self.variables=[\"product number\",\"periods\",\"display numbers\",\"customer numbers\"]\n",
    "        print(\"please input {} :\".format(self.variables[0])) #产品数量\n",
    "        self.n=int(input())\n",
    "        print(\"please input {} :\".format(self.variables[1])) #一天来店人数\n",
    "        self.T=int(input())\n",
    "        print(\"please input {} :\".format(self.variables[2])) #展示的产品数量\n",
    "        self.K=int(input())\n",
    "        print(\"please input {} :\".format(self.variables[3])) #顾客种类数\n",
    "        self.m=int(input())\n",
    "        self.cvr=np.zeros((self.m,self.n))\n",
    "        self.ctr=np.zeros((self.m,self.n))\n",
    "        self.price=np.zeros(self.n)\n",
    "        self.invent=np.zeros(self.n)\n",
    "        self.cusprob=np.zeros(self.m)\n",
    "        self.t=0\n",
    "        self.Type=0\n",
    "        self.c=0\n",
    "        self.A=0\n",
    "        self.b=0\n",
    "        self.purchase=0\n",
    "        self.tag=0\n",
    "        self.rest=0\n",
    "        self.duAl=0\n",
    "        self.deCision=[]\n",
    "        self.sorted_deCision=[]\n",
    "        self.reCommend=[]\n",
    "    ##输入高级参数\n",
    "    def cvr_input(self): #cvr\n",
    "            for i in range(self.m):\n",
    "                for j in range(self.n):\n",
    "                    print(\"please input cvr for  product {} of customer type {} :\".format(j+1,i+1))\n",
    "                    self.cvr[i,j]=float(input())\n",
    "                    print(self.cvr)\n",
    "    def ctr_input(self): #ctr\n",
    "            for i in range(self.m):\n",
    "                for j in range(self.n):\n",
    "                    print(\"please input ctr for  product {} of customer type {} :\".format(j+1,i+1))\n",
    "                    self.ctr[i,j]=float(input())\n",
    "                    print(self.ctr)   \n",
    "    def price_input(self): #商品价格\n",
    "            for i in range(self.n):\n",
    "                print(\"please input price of  product {} :\".format(i+1))\n",
    "                self.price[i]=float(input())\n",
    "                print(self.price)\n",
    "    def inventory_input(self): #预库存\n",
    "            for i in range(self.n):\n",
    "                print(\"please input inventory of  product {} :\".format(i+1))\n",
    "                self.invent[i]=float(input())\n",
    "                print(self.invent)\n",
    "    def cusprob_input(self): #顾客来访的概率\n",
    "            for i in range(self.m):\n",
    "                print(\"please input probability of customer type {} :\".format(i+1))\n",
    "                self.cusprob[i]=float(input())\n",
    "                print(self.cusprob)\n",
    "    def purchaseprob_generation(self): #根据ctr和cvr生成顾客的商品购买概率矩阵\n",
    "            self.purchase=np.zeros((self.m,self.n))\n",
    "            for i in range(self.m):\n",
    "                for j in range(self.n):\n",
    "                    self.purchase[i,j]=self.ctr[i,j]*self.cvr[i,j]\n",
    "            print(\"the purchase probability matrix is: :\")\n",
    "            print(self.purchase)\n",
    "    def initialize(self): #初始化模型的参数设置\n",
    "        self.cvr_input()\n",
    "        self.ctr_input()\n",
    "        self.price_input()\n",
    "        #self.inventory_input()\n",
    "        self.cusprob_input()\n",
    "        self.purchaseprob_generation()\n",
    "    def generate_c(self): #生成目标函数的系数\n",
    "        self.c=np.zeros((1+self.m)*self.n)\n",
    "        order=0\n",
    "        for i in range(1+self.m):\n",
    "            for j in range(self.n):\n",
    "                if i==0:\n",
    "                    self.c[order]=self.purchase[self.Type-1,j]*self.price[j]\n",
    "                    order+=1\n",
    "                if i >0:\n",
    "                    self.c[order]=self.purchase[i-1,j]*self.price[j]*self.rest*self.cusprob[i-1]\n",
    "                    order+=1\n",
    "    def generate_A(self): #生成约束的系数\n",
    "        self.A=np.zeros((self.m+1+self.n,(1+self.m)*self.n))\n",
    "        for i in range(self.m+1):\n",
    "            for j in range(self.n):\n",
    "                self.A[i,self.n*i+j]=1\n",
    "        for i in range(self.n):\n",
    "            for j in range(self.m+1):\n",
    "                if j==0:\n",
    "                    self.A[self.m+1+i,j*self.n+i]=self.purchase[self.Type-1,i]\n",
    "                if j>0:\n",
    "                    self.A[self.m+1+i,j*self.n+i]=self.purchase[j-1,i]*self.rest*self.cusprob[j-1]\n",
    "    def generate_b(self): #生成约束的值\n",
    "        self.b=np.zeros(self.m+1+self.n)\n",
    "        for i in range(self.m+1):\n",
    "            self.b[i]=self.K\n",
    "        for i in range(self.n):\n",
    "            self.b[i+self.m+1]=self.invent[i]\n",
    "    def sOrt(self): # 根据对偶的更新后的真实价格排序并推荐\n",
    "        for i in range(self.n):\n",
    "            self.deCision.append((self.price[i]-self.duAl[i])*self.purchase[self.Type-1,i])\n",
    "        for j in range(self.K):\n",
    "            for i in range(self.n):\n",
    "                if self.deCision[i]==max(self.deCision):\n",
    "                    if self.invent[i] != 0:\n",
    "                        print(\"推荐第{}种商品\".format(i+1))\n",
    "                        self.reCommend.append(i+1)\n",
    "                        self.deCision[i]=0\n",
    "                        break\n",
    "        self.deCision=[]\n",
    "    def LP(self,t,Type,invent):  #进行规划求解，输入的有：1.这是今天第几个客人，2.来店的客人种类，3.[商品1的库存，商品2的库存]\n",
    "        self.t=t\n",
    "        self.Type=int(Type)\n",
    "        self.invent=invent\n",
    "        self.rest=int(self.T-self.t)\n",
    "        #print(self.tag)\n",
    "        self.generate_c()\n",
    "        self.generate_A()\n",
    "        self.generate_b()\n",
    "        print(self.c)\n",
    "        print(self.A)\n",
    "        print(self.b)\n",
    "        a=gp.Model(\"basic\")\n",
    "        x=a.addMVar((1+self.m)*self.n,name='x')\n",
    "        a.setObjective(self.c@x, GRB.MAXIMIZE)\n",
    "        a.addConstr(self.A@x <= self.b, name='cons')\n",
    "        a.optimize()\n",
    "        self.duAl=a.pi[-self.n:]   # 储存库存约束的对偶即库存的影子价格\n",
    "        self.sOrt()"
   ]
  },
  {
   "cell_type": "code",
   "execution_count": 3,
   "id": "6c26c218-3794-4adf-8238-adf00ff5d6b8",
   "metadata": {},
   "outputs": [
    {
     "name": "stdout",
     "output_type": "stream",
     "text": [
      "please input product number :\n"
     ]
    },
    {
     "name": "stdin",
     "output_type": "stream",
     "text": [
      " 2\n"
     ]
    },
    {
     "name": "stdout",
     "output_type": "stream",
     "text": [
      "please input periods :\n"
     ]
    },
    {
     "name": "stdin",
     "output_type": "stream",
     "text": [
      " 100\n"
     ]
    },
    {
     "name": "stdout",
     "output_type": "stream",
     "text": [
      "please input display numbers :\n"
     ]
    },
    {
     "name": "stdin",
     "output_type": "stream",
     "text": [
      " 1\n"
     ]
    },
    {
     "name": "stdout",
     "output_type": "stream",
     "text": [
      "please input customer numbers :\n"
     ]
    },
    {
     "name": "stdin",
     "output_type": "stream",
     "text": [
      " 2\n"
     ]
    },
    {
     "name": "stdout",
     "output_type": "stream",
     "text": [
      "please input cvr for  product 1 of customer type 1 :\n"
     ]
    },
    {
     "name": "stdin",
     "output_type": "stream",
     "text": [
      " 1\n"
     ]
    },
    {
     "name": "stdout",
     "output_type": "stream",
     "text": [
      "[[1. 0.]\n",
      " [0. 0.]]\n",
      "please input cvr for  product 2 of customer type 1 :\n"
     ]
    },
    {
     "name": "stdin",
     "output_type": "stream",
     "text": [
      " 1\n"
     ]
    },
    {
     "name": "stdout",
     "output_type": "stream",
     "text": [
      "[[1. 1.]\n",
      " [0. 0.]]\n",
      "please input cvr for  product 1 of customer type 2 :\n"
     ]
    },
    {
     "name": "stdin",
     "output_type": "stream",
     "text": [
      " 1\n"
     ]
    },
    {
     "name": "stdout",
     "output_type": "stream",
     "text": [
      "[[1. 1.]\n",
      " [1. 0.]]\n",
      "please input cvr for  product 2 of customer type 2 :\n"
     ]
    },
    {
     "name": "stdin",
     "output_type": "stream",
     "text": [
      " 1\n"
     ]
    },
    {
     "name": "stdout",
     "output_type": "stream",
     "text": [
      "[[1. 1.]\n",
      " [1. 1.]]\n",
      "please input ctr for  product 1 of customer type 1 :\n"
     ]
    },
    {
     "name": "stdin",
     "output_type": "stream",
     "text": [
      " 0.8\n"
     ]
    },
    {
     "name": "stdout",
     "output_type": "stream",
     "text": [
      "[[0.8 0. ]\n",
      " [0.  0. ]]\n",
      "please input ctr for  product 2 of customer type 1 :\n"
     ]
    },
    {
     "name": "stdin",
     "output_type": "stream",
     "text": [
      " 0.1\n"
     ]
    },
    {
     "name": "stdout",
     "output_type": "stream",
     "text": [
      "[[0.8 0.1]\n",
      " [0.  0. ]]\n",
      "please input ctr for  product 1 of customer type 2 :\n"
     ]
    },
    {
     "name": "stdin",
     "output_type": "stream",
     "text": [
      " 0.4\n"
     ]
    },
    {
     "name": "stdout",
     "output_type": "stream",
     "text": [
      "[[0.8 0.1]\n",
      " [0.4 0. ]]\n",
      "please input ctr for  product 2 of customer type 2 :\n"
     ]
    },
    {
     "name": "stdin",
     "output_type": "stream",
     "text": [
      " 0.5\n"
     ]
    },
    {
     "name": "stdout",
     "output_type": "stream",
     "text": [
      "[[0.8 0.1]\n",
      " [0.4 0.5]]\n",
      "please input price of  product 1 :\n"
     ]
    },
    {
     "name": "stdin",
     "output_type": "stream",
     "text": [
      " 8\n"
     ]
    },
    {
     "name": "stdout",
     "output_type": "stream",
     "text": [
      "[8. 0.]\n",
      "please input price of  product 2 :\n"
     ]
    },
    {
     "name": "stdin",
     "output_type": "stream",
     "text": [
      " 5\n"
     ]
    },
    {
     "name": "stdout",
     "output_type": "stream",
     "text": [
      "[8. 5.]\n",
      "please input probability of customer type 1 :\n"
     ]
    },
    {
     "name": "stdin",
     "output_type": "stream",
     "text": [
      " 0.6\n"
     ]
    },
    {
     "name": "stdout",
     "output_type": "stream",
     "text": [
      "[0.6 0. ]\n",
      "please input probability of customer type 2 :\n"
     ]
    },
    {
     "name": "stdin",
     "output_type": "stream",
     "text": [
      " 0.4\n"
     ]
    },
    {
     "name": "stdout",
     "output_type": "stream",
     "text": [
      "[0.6 0.4]\n",
      "the purchase probability matrix is: :\n",
      "[[0.8 0.1]\n",
      " [0.4 0.5]]\n"
     ]
    }
   ],
   "source": [
    "a=recomm()  # 创建类\n",
    "a.initialize()   #输入模型的参数设置"
   ]
  },
  {
   "cell_type": "code",
   "execution_count": 9,
   "id": "23ad0ba9-9518-4893-81fb-5de3c6515e0c",
   "metadata": {},
   "outputs": [
    {
     "name": "stdout",
     "output_type": "stream",
     "text": [
      "[  3.2    2.5  318.72  24.9  106.24  83.  ]\n",
      "[[ 1.    1.    0.    0.    0.    0.  ]\n",
      " [ 0.    0.    1.    1.    0.    0.  ]\n",
      " [ 0.    0.    0.    0.    1.    1.  ]\n",
      " [ 0.4   0.   39.84  0.   13.28  0.  ]\n",
      " [ 0.    0.5   0.    4.98  0.   16.6 ]]\n",
      "[ 1.  1.  1. 40. 40.]\n",
      "Gurobi Optimizer version 9.5.0 build v9.5.0rc5 (win64)\n",
      "Thread count: 4 physical cores, 8 logical processors, using up to 8 threads\n",
      "Optimize a model with 5 rows, 6 columns and 12 nonzeros\n",
      "Model fingerprint: 0x609c5b9d\n",
      "Coefficient statistics:\n",
      "  Matrix range     [4e-01, 4e+01]\n",
      "  Objective range  [3e+00, 3e+02]\n",
      "  Bounds range     [0e+00, 0e+00]\n",
      "  RHS range        [1e+00, 4e+01]\n",
      "Presolve removed 4 rows and 4 columns\n",
      "Presolve time: 0.01s\n",
      "Presolved: 1 rows, 2 columns, 2 nonzeros\n",
      "\n",
      "Iteration    Objective       Primal Inf.    Dual Inf.      Time\n",
      "       0    4.2816000e+02   1.690000e+00   0.000000e+00      0s\n",
      "       1    4.0450000e+02   0.000000e+00   0.000000e+00      0s\n",
      "\n",
      "Solved in 1 iterations and 0.01 seconds (0.00 work units)\n",
      "Optimal objective  4.045000000e+02\n",
      "推荐第1种商品\n"
     ]
    }
   ],
   "source": [
    "t=1             # 本次交易为第t次\n",
    "customer=1      # 顾客为第1种\n",
    "invent=[40,40]  # 实时库存水平\n",
    "a.LP(t,customer,invent)   # 进行线性规划并推荐\n"
   ]
  },
  {
   "cell_type": "code",
   "execution_count": null,
   "id": "d5bed866-5c41-48df-9870-6b257e188a70",
   "metadata": {},
   "outputs": [],
   "source": [
    "##使用说明：先使用a=recomm()  # 创建类\n",
    "#再使用a.initialize()   #输入模型的参数设置\n",
    "#每次需要更新t=1             # 本次交易为第t次\n",
    "#在这里输入顾客类型customer=1      # 顾客为第1种\n",
    "#输入两种库存invent=[40,40]  # 实时库存水平\n",
    "#执行线性规划得到推荐。推荐会打印出来a.LP(t,customer,invent)   # 进行线性规划并推荐\n",
    "#并且每次的推荐还储存在a.reCommend列表"
   ]
  }
 ],
 "metadata": {
  "kernelspec": {
   "display_name": "Python 3 (ipykernel)",
   "language": "python",
   "name": "python3"
  },
  "language_info": {
   "codemirror_mode": {
    "name": "ipython",
    "version": 3
   },
   "file_extension": ".py",
   "mimetype": "text/x-python",
   "name": "python",
   "nbconvert_exporter": "python",
   "pygments_lexer": "ipython3",
   "version": "3.10.0"
  }
 },
 "nbformat": 4,
 "nbformat_minor": 5
}
